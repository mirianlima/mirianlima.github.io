{
 "cells": [
  {
   "cell_type": "markdown",
   "metadata": {},
   "source": [
    "# Step 1: \n",
    "Connect to DuckDB (in-memory by default, or specify a file path)"
   ]
  },
  {
   "cell_type": "code",
   "execution_count": null,
   "metadata": {},
   "outputs": [],
   "source": [
    "import duckdb\n",
    "# Initialize DuckDB connection\n",
    "con = duckdb.connect()\n",
    "\n",
    "# Define the base path\n",
    "base_path = '/Users/mlima/Code/mirianlima.github.io/blog/posts/2024-08-12-duckdb-motherduck/data/'"
   ]
  },
  {
   "cell_type": "markdown",
   "metadata": {},
   "source": [
    "# Step 2: \n",
    "Load CSV data into DuckDB using Relations"
   ]
  },
  {
   "cell_type": "code",
   "execution_count": null,
   "metadata": {},
   "outputs": [],
   "source": [
    "c_age1 = con.read_csv(f'{base_path}c_age1.csv')\n",
    "c_dem = con.read_csv(f'{base_path}c_dem.csv')"
   ]
  },
  {
   "cell_type": "markdown",
   "metadata": {},
   "source": [
    "# Step 3: \n",
    "Filter, group, aggregate and pivot wide the `c_age1` data using Relations"
   ]
  },
  {
   "cell_type": "code",
   "execution_count": null,
   "metadata": {},
   "outputs": [],
   "source": [
    "agg_age_data = (\n",
    "    c_age1\n",
    "    .filter(\"age_labor IN ('Younger Prime-age Workers (25-34)', 'Older Prime-age Workers (35-54)')\")\n",
    "    .project(\"\"\"\n",
    "        iso3_code, \n",
    "        time,\n",
    "        CASE \n",
    "            WHEN age_labor = 'Younger Prime-age Workers (25-34)' THEN 'prime_younger'\n",
    "            WHEN age_labor = 'Older Prime-age Workers (35-54)' THEN 'prime_older'\n",
    "        END AS age_labor_group,\n",
    "        pop_total\n",
    "    \"\"\")\n",
    "    .aggregate(\"\"\"\n",
    "        iso3_code, \n",
    "        time, \n",
    "        age_labor_group, \n",
    "        SUM(pop_total) AS total_population\n",
    "    \"\"\")\n",
    "    .aggregate(\"\"\"\n",
    "        iso3_code, \n",
    "        time,\n",
    "        SUM(CASE WHEN age_labor_group = 'prime_younger' THEN total_population ELSE 0 END) AS prime_younger,\n",
    "        SUM(CASE WHEN age_labor_group = 'prime_older' THEN total_population ELSE 0 END) AS prime_older\n",
    "    \"\"\")\n",
    " )"
   ]
  },
  {
   "cell_type": "markdown",
   "metadata": {},
   "source": [
    "# Step 4: \n",
    "Merging the pivoted data with `c_dem` using `iso3_code` and `time`"
   ]
  },
  {
   "cell_type": "code",
   "execution_count": null,
   "metadata": {},
   "outputs": [],
   "source": [
    "final_data = (\n",
    "    agg_age_data\n",
    "    .set_alias(\"p\")\n",
    "    .join(c_dem.set_alias(\"d\"), \"p.iso3_code = d.iso3_code AND p.time = d.time\")\n",
    ")"
   ]
  },
  {
   "cell_type": "markdown",
   "metadata": {},
   "source": [
    "# Step 5: \n",
    "Show a sample of the joined data"
   ]
  },
  {
   "cell_type": "code",
   "execution_count": null,
   "metadata": {},
   "outputs": [],
   "source": [
    "final_data.limit(6).show()"
   ]
  },
  {
   "cell_type": "markdown",
   "metadata": {},
   "source": [
    "# Step 6: \n",
    "Write the final data to CSV and parquet files"
   ]
  },
  {
   "cell_type": "markdown",
   "metadata": {},
   "source": [
    "CSV"
   ]
  },
  {
   "cell_type": "code",
   "execution_count": 49,
   "metadata": {},
   "outputs": [],
   "source": [
    "\n",
    "# Write the final data to a CSV file with custom options\n",
    "final_data.write_csv(\n",
    "    file_name=f'{base_path}c_dem_premium.csv',\n",
    "    sep=',',           # Delimiter\n",
    "    na_rep='NA',       # Representation of missing values\n",
    "    header=True,       # Include header in the output\n",
    "    encoding='utf-8',  # Encoding of the output file\n",
    "    compression='gzip',  # Compression for the output file (optional)\n",
    "    overwrite=True      # Overwrite the file if it exists\n",
    ")"
   ]
  },
  {
   "cell_type": "markdown",
   "metadata": {},
   "source": [
    "Parquet"
   ]
  },
  {
   "cell_type": "code",
   "execution_count": 51,
   "metadata": {},
   "outputs": [],
   "source": [
    "# Write the final data to a Parquet file with custom options\n",
    "final_data.write_parquet(\n",
    "    file_name=f'{base_path}c_dem_premium.parquet',\n",
    "    compression='snappy'  # Compression type (e.g., 'snappy', 'gzip', 'brotli')\n",
    ")\n"
   ]
  }
 ],
 "metadata": {
  "kernelspec": {
   "display_name": "eda",
   "language": "python",
   "name": "python3"
  },
  "language_info": {
   "codemirror_mode": {
    "name": "ipython",
    "version": 3
   },
   "file_extension": ".py",
   "mimetype": "text/x-python",
   "name": "python",
   "nbconvert_exporter": "python",
   "pygments_lexer": "ipython3",
   "version": "3.12.2"
  }
 },
 "nbformat": 4,
 "nbformat_minor": 2
}
